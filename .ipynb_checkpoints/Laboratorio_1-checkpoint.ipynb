{
 "cells": [
  {
   "cell_type": "markdown",
   "id": "0a17cf69-e5a4-4551-a24b-d3620c62362b",
   "metadata": {},
   "source": [
    "Universidad del valle de Guatemala\n",
    "Dpto. Ciencias de la computacion\n",
    "Inteligencia Artificial\n",
    "Alberto Suriano\n",
    "\n",
    "Laboratorio 1 \n",
    "Andres Quinto - 18288"
   ]
  },
  {
   "cell_type": "code",
   "execution_count": null,
   "id": "c949204c-a17e-4aa6-94d5-14c0cf0a3dc8",
   "metadata": {},
   "outputs": [],
   "source": []
  },
  {
   "cell_type": "code",
   "execution_count": null,
   "id": "126b1a6a-62da-4617-961b-100e2109f9fe",
   "metadata": {},
   "outputs": [],
   "source": []
  }
 ],
 "metadata": {
  "kernelspec": {
   "display_name": "Python 3 (ipykernel)",
   "language": "python",
   "name": "python3"
  },
  "language_info": {
   "codemirror_mode": {
    "name": "ipython",
    "version": 3
   },
   "file_extension": ".py",
   "mimetype": "text/x-python",
   "name": "python",
   "nbconvert_exporter": "python",
   "pygments_lexer": "ipython3",
   "version": "3.12.0"
  }
 },
 "nbformat": 4,
 "nbformat_minor": 5
}
